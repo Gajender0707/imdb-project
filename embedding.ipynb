{
 "cells": [
  {
   "cell_type": "code",
   "execution_count": 1,
   "metadata": {},
   "outputs": [],
   "source": [
    "from tensorflow.keras.preprocessing.text import one_hot"
   ]
  },
  {
   "cell_type": "code",
   "execution_count": 2,
   "metadata": {},
   "outputs": [],
   "source": [
    "### sentences\n",
    "sent=[  'the glass of milk',\n",
    "     'the glass of juice',\n",
    "     'the cup of tea',\n",
    "    'I am a good boy',\n",
    "     'I am a good developer',\n",
    "     'understand the meaning of words',\n",
    "     'your videos are good',]"
   ]
  },
  {
   "cell_type": "code",
   "execution_count": 3,
   "metadata": {},
   "outputs": [
    {
     "data": {
      "text/plain": [
       "['the glass of milk',\n",
       " 'the glass of juice',\n",
       " 'the cup of tea',\n",
       " 'I am a good boy',\n",
       " 'I am a good developer',\n",
       " 'understand the meaning of words',\n",
       " 'your videos are good']"
      ]
     },
     "execution_count": 3,
     "metadata": {},
     "output_type": "execute_result"
    }
   ],
   "source": [
    "sent"
   ]
  },
  {
   "cell_type": "code",
   "execution_count": 4,
   "metadata": {},
   "outputs": [],
   "source": [
    "## Define the vocabulary size\n",
    "voc_size=10000"
   ]
  },
  {
   "cell_type": "code",
   "execution_count": 5,
   "metadata": {},
   "outputs": [
    {
     "data": {
      "text/plain": [
       "['the glass of milk',\n",
       " 'the glass of juice',\n",
       " 'the cup of tea',\n",
       " 'I am a good boy',\n",
       " 'I am a good developer',\n",
       " 'understand the meaning of words',\n",
       " 'your videos are good']"
      ]
     },
     "execution_count": 5,
     "metadata": {},
     "output_type": "execute_result"
    }
   ],
   "source": [
    "sent"
   ]
  },
  {
   "cell_type": "code",
   "execution_count": 6,
   "metadata": {},
   "outputs": [
    {
     "data": {
      "text/plain": [
       "[[4176, 8214, 8093, 7162],\n",
       " [4176, 8214, 8093, 7148],\n",
       " [4176, 4939, 8093, 3945],\n",
       " [10, 6921, 7365, 3642, 1063],\n",
       " [10, 6921, 7365, 3642, 8937],\n",
       " [2070, 4176, 924, 8093, 3510],\n",
       " [7219, 2485, 4587, 3642]]"
      ]
     },
     "execution_count": 6,
     "metadata": {},
     "output_type": "execute_result"
    }
   ],
   "source": [
    "### One Hot Representation\n",
    "one_hot_repr=[one_hot(words,voc_size)for words in sent]\n",
    "one_hot_repr"
   ]
  },
  {
   "cell_type": "code",
   "execution_count": 7,
   "metadata": {},
   "outputs": [],
   "source": [
    "## word Embedding Representation\n",
    "\n",
    "from tensorflow.keras.layers import Embedding\n",
    "#from tensorflow.keras.processing.sequence import pad_sequences\n",
    "from tensorflow.keras.utils import pad_sequences\n",
    "from tensorflow.keras.models import Sequential"
   ]
  },
  {
   "cell_type": "code",
   "execution_count": 8,
   "metadata": {},
   "outputs": [],
   "source": [
    "import numpy as np"
   ]
  },
  {
   "cell_type": "code",
   "execution_count": 9,
   "metadata": {},
   "outputs": [
    {
     "name": "stdout",
     "output_type": "stream",
     "text": [
      "[[   0    0    0    0 4176 8214 8093 7162]\n",
      " [   0    0    0    0 4176 8214 8093 7148]\n",
      " [   0    0    0    0 4176 4939 8093 3945]\n",
      " [   0    0    0   10 6921 7365 3642 1063]\n",
      " [   0    0    0   10 6921 7365 3642 8937]\n",
      " [   0    0    0 2070 4176  924 8093 3510]\n",
      " [   0    0    0    0 7219 2485 4587 3642]]\n"
     ]
    }
   ],
   "source": [
    "sent_length=8\n",
    "embedded_docs=pad_sequences(one_hot_repr,padding='pre',maxlen=sent_length)\n",
    "print(embedded_docs)"
   ]
  },
  {
   "cell_type": "code",
   "execution_count": 10,
   "metadata": {},
   "outputs": [],
   "source": [
    "## feature representation\n",
    "dim=10"
   ]
  },
  {
   "cell_type": "code",
   "execution_count": 11,
   "metadata": {},
   "outputs": [
    {
     "name": "stderr",
     "output_type": "stream",
     "text": [
      "/Users/sanju/Documents/DS/Generative AI/NLP/IMDB_project/myenv/lib/python3.12/site-packages/keras/src/layers/core/embedding.py:90: UserWarning: Argument `input_length` is deprecated. Just remove it.\n",
      "  warnings.warn(\n"
     ]
    }
   ],
   "source": [
    "model=Sequential()\n",
    "model.add(Embedding(voc_size,dim,input_length=sent_length))\n",
    "model.compile('adam','mse')"
   ]
  },
  {
   "cell_type": "code",
   "execution_count": 12,
   "metadata": {},
   "outputs": [
    {
     "data": {
      "text/html": [
       "<pre style=\"white-space:pre;overflow-x:auto;line-height:normal;font-family:Menlo,'DejaVu Sans Mono',consolas,'Courier New',monospace\"><span style=\"font-weight: bold\">Model: \"sequential\"</span>\n",
       "</pre>\n"
      ],
      "text/plain": [
       "\u001b[1mModel: \"sequential\"\u001b[0m\n"
      ]
     },
     "metadata": {},
     "output_type": "display_data"
    },
    {
     "data": {
      "text/html": [
       "<pre style=\"white-space:pre;overflow-x:auto;line-height:normal;font-family:Menlo,'DejaVu Sans Mono',consolas,'Courier New',monospace\">┏━━━━━━━━━━━━━━━━━━━━━━━━━━━━━━━━━┳━━━━━━━━━━━━━━━━━━━━━━━━┳━━━━━━━━━━━━━━━┓\n",
       "┃<span style=\"font-weight: bold\"> Layer (type)                    </span>┃<span style=\"font-weight: bold\"> Output Shape           </span>┃<span style=\"font-weight: bold\">       Param # </span>┃\n",
       "┡━━━━━━━━━━━━━━━━━━━━━━━━━━━━━━━━━╇━━━━━━━━━━━━━━━━━━━━━━━━╇━━━━━━━━━━━━━━━┩\n",
       "│ embedding (<span style=\"color: #0087ff; text-decoration-color: #0087ff\">Embedding</span>)           │ ?                      │   <span style=\"color: #00af00; text-decoration-color: #00af00\">0</span> (unbuilt) │\n",
       "└─────────────────────────────────┴────────────────────────┴───────────────┘\n",
       "</pre>\n"
      ],
      "text/plain": [
       "┏━━━━━━━━━━━━━━━━━━━━━━━━━━━━━━━━━┳━━━━━━━━━━━━━━━━━━━━━━━━┳━━━━━━━━━━━━━━━┓\n",
       "┃\u001b[1m \u001b[0m\u001b[1mLayer (type)                   \u001b[0m\u001b[1m \u001b[0m┃\u001b[1m \u001b[0m\u001b[1mOutput Shape          \u001b[0m\u001b[1m \u001b[0m┃\u001b[1m \u001b[0m\u001b[1m      Param #\u001b[0m\u001b[1m \u001b[0m┃\n",
       "┡━━━━━━━━━━━━━━━━━━━━━━━━━━━━━━━━━╇━━━━━━━━━━━━━━━━━━━━━━━━╇━━━━━━━━━━━━━━━┩\n",
       "│ embedding (\u001b[38;5;33mEmbedding\u001b[0m)           │ ?                      │   \u001b[38;5;34m0\u001b[0m (unbuilt) │\n",
       "└─────────────────────────────────┴────────────────────────┴───────────────┘\n"
      ]
     },
     "metadata": {},
     "output_type": "display_data"
    },
    {
     "data": {
      "text/html": [
       "<pre style=\"white-space:pre;overflow-x:auto;line-height:normal;font-family:Menlo,'DejaVu Sans Mono',consolas,'Courier New',monospace\"><span style=\"font-weight: bold\"> Total params: </span><span style=\"color: #00af00; text-decoration-color: #00af00\">0</span> (0.00 B)\n",
       "</pre>\n"
      ],
      "text/plain": [
       "\u001b[1m Total params: \u001b[0m\u001b[38;5;34m0\u001b[0m (0.00 B)\n"
      ]
     },
     "metadata": {},
     "output_type": "display_data"
    },
    {
     "data": {
      "text/html": [
       "<pre style=\"white-space:pre;overflow-x:auto;line-height:normal;font-family:Menlo,'DejaVu Sans Mono',consolas,'Courier New',monospace\"><span style=\"font-weight: bold\"> Trainable params: </span><span style=\"color: #00af00; text-decoration-color: #00af00\">0</span> (0.00 B)\n",
       "</pre>\n"
      ],
      "text/plain": [
       "\u001b[1m Trainable params: \u001b[0m\u001b[38;5;34m0\u001b[0m (0.00 B)\n"
      ]
     },
     "metadata": {},
     "output_type": "display_data"
    },
    {
     "data": {
      "text/html": [
       "<pre style=\"white-space:pre;overflow-x:auto;line-height:normal;font-family:Menlo,'DejaVu Sans Mono',consolas,'Courier New',monospace\"><span style=\"font-weight: bold\"> Non-trainable params: </span><span style=\"color: #00af00; text-decoration-color: #00af00\">0</span> (0.00 B)\n",
       "</pre>\n"
      ],
      "text/plain": [
       "\u001b[1m Non-trainable params: \u001b[0m\u001b[38;5;34m0\u001b[0m (0.00 B)\n"
      ]
     },
     "metadata": {},
     "output_type": "display_data"
    }
   ],
   "source": [
    "model.summary()"
   ]
  },
  {
   "cell_type": "code",
   "execution_count": 13,
   "metadata": {},
   "outputs": [
    {
     "name": "stdout",
     "output_type": "stream",
     "text": [
      "\u001b[1m1/1\u001b[0m \u001b[32m━━━━━━━━━━━━━━━━━━━━\u001b[0m\u001b[37m\u001b[0m \u001b[1m0s\u001b[0m 48ms/step\n"
     ]
    },
    {
     "data": {
      "text/plain": [
       "array([[[ 0.01533146,  0.03795299, -0.03740451, -0.0353724 ,\n",
       "         -0.01419059, -0.02461563,  0.02681908,  0.00144666,\n",
       "         -0.00101642, -0.04638548],\n",
       "        [ 0.01533146,  0.03795299, -0.03740451, -0.0353724 ,\n",
       "         -0.01419059, -0.02461563,  0.02681908,  0.00144666,\n",
       "         -0.00101642, -0.04638548],\n",
       "        [ 0.01533146,  0.03795299, -0.03740451, -0.0353724 ,\n",
       "         -0.01419059, -0.02461563,  0.02681908,  0.00144666,\n",
       "         -0.00101642, -0.04638548],\n",
       "        [ 0.01533146,  0.03795299, -0.03740451, -0.0353724 ,\n",
       "         -0.01419059, -0.02461563,  0.02681908,  0.00144666,\n",
       "         -0.00101642, -0.04638548],\n",
       "        [ 0.04027236, -0.0225475 , -0.00781497, -0.02107455,\n",
       "          0.04375248, -0.01790141,  0.0447419 ,  0.03372705,\n",
       "         -0.00976808,  0.00204863],\n",
       "        [ 0.03897735, -0.04998127, -0.02957302, -0.0140614 ,\n",
       "         -0.03136629, -0.03584492,  0.03895107,  0.04823282,\n",
       "         -0.02111862, -0.01745163],\n",
       "        [ 0.01975861,  0.028815  , -0.03023647, -0.00528116,\n",
       "          0.01973112,  0.03100561, -0.02985975,  0.04917505,\n",
       "         -0.04369954,  0.02548075],\n",
       "        [ 0.04199639, -0.02243332, -0.04661646, -0.00900818,\n",
       "         -0.03784878,  0.0417329 , -0.0463686 ,  0.0004006 ,\n",
       "          0.02311094, -0.0039966 ]],\n",
       "\n",
       "       [[ 0.01533146,  0.03795299, -0.03740451, -0.0353724 ,\n",
       "         -0.01419059, -0.02461563,  0.02681908,  0.00144666,\n",
       "         -0.00101642, -0.04638548],\n",
       "        [ 0.01533146,  0.03795299, -0.03740451, -0.0353724 ,\n",
       "         -0.01419059, -0.02461563,  0.02681908,  0.00144666,\n",
       "         -0.00101642, -0.04638548],\n",
       "        [ 0.01533146,  0.03795299, -0.03740451, -0.0353724 ,\n",
       "         -0.01419059, -0.02461563,  0.02681908,  0.00144666,\n",
       "         -0.00101642, -0.04638548],\n",
       "        [ 0.01533146,  0.03795299, -0.03740451, -0.0353724 ,\n",
       "         -0.01419059, -0.02461563,  0.02681908,  0.00144666,\n",
       "         -0.00101642, -0.04638548],\n",
       "        [ 0.04027236, -0.0225475 , -0.00781497, -0.02107455,\n",
       "          0.04375248, -0.01790141,  0.0447419 ,  0.03372705,\n",
       "         -0.00976808,  0.00204863],\n",
       "        [ 0.03897735, -0.04998127, -0.02957302, -0.0140614 ,\n",
       "         -0.03136629, -0.03584492,  0.03895107,  0.04823282,\n",
       "         -0.02111862, -0.01745163],\n",
       "        [ 0.01975861,  0.028815  , -0.03023647, -0.00528116,\n",
       "          0.01973112,  0.03100561, -0.02985975,  0.04917505,\n",
       "         -0.04369954,  0.02548075],\n",
       "        [ 0.04638971,  0.01718775,  0.04172539,  0.03384386,\n",
       "         -0.03204294, -0.03749652,  0.02627298, -0.0246006 ,\n",
       "         -0.02194612, -0.03438359]],\n",
       "\n",
       "       [[ 0.01533146,  0.03795299, -0.03740451, -0.0353724 ,\n",
       "         -0.01419059, -0.02461563,  0.02681908,  0.00144666,\n",
       "         -0.00101642, -0.04638548],\n",
       "        [ 0.01533146,  0.03795299, -0.03740451, -0.0353724 ,\n",
       "         -0.01419059, -0.02461563,  0.02681908,  0.00144666,\n",
       "         -0.00101642, -0.04638548],\n",
       "        [ 0.01533146,  0.03795299, -0.03740451, -0.0353724 ,\n",
       "         -0.01419059, -0.02461563,  0.02681908,  0.00144666,\n",
       "         -0.00101642, -0.04638548],\n",
       "        [ 0.01533146,  0.03795299, -0.03740451, -0.0353724 ,\n",
       "         -0.01419059, -0.02461563,  0.02681908,  0.00144666,\n",
       "         -0.00101642, -0.04638548],\n",
       "        [ 0.04027236, -0.0225475 , -0.00781497, -0.02107455,\n",
       "          0.04375248, -0.01790141,  0.0447419 ,  0.03372705,\n",
       "         -0.00976808,  0.00204863],\n",
       "        [-0.04603438, -0.01549517, -0.01082063,  0.03976889,\n",
       "          0.01582226, -0.0063848 , -0.03330071,  0.01373788,\n",
       "         -0.01080781, -0.01659437],\n",
       "        [ 0.01975861,  0.028815  , -0.03023647, -0.00528116,\n",
       "          0.01973112,  0.03100561, -0.02985975,  0.04917505,\n",
       "         -0.04369954,  0.02548075],\n",
       "        [-0.03194913, -0.03110347, -0.02358544, -0.0100454 ,\n",
       "          0.02923269,  0.00924008, -0.01130334,  0.01787112,\n",
       "         -0.03832461,  0.04214444]],\n",
       "\n",
       "       [[ 0.01533146,  0.03795299, -0.03740451, -0.0353724 ,\n",
       "         -0.01419059, -0.02461563,  0.02681908,  0.00144666,\n",
       "         -0.00101642, -0.04638548],\n",
       "        [ 0.01533146,  0.03795299, -0.03740451, -0.0353724 ,\n",
       "         -0.01419059, -0.02461563,  0.02681908,  0.00144666,\n",
       "         -0.00101642, -0.04638548],\n",
       "        [ 0.01533146,  0.03795299, -0.03740451, -0.0353724 ,\n",
       "         -0.01419059, -0.02461563,  0.02681908,  0.00144666,\n",
       "         -0.00101642, -0.04638548],\n",
       "        [ 0.01484487,  0.03703877,  0.00823281,  0.02107494,\n",
       "          0.02463801,  0.04201534, -0.00343429,  0.0456318 ,\n",
       "         -0.02155709,  0.01218324],\n",
       "        [-0.04966196, -0.02740567, -0.04890309, -0.03732642,\n",
       "          0.02773773, -0.02346962, -0.01871254, -0.0068147 ,\n",
       "          0.00760287,  0.00411864],\n",
       "        [-0.0434057 ,  0.00621086, -0.02617528,  0.0392809 ,\n",
       "         -0.02248926,  0.02929914, -0.02803962,  0.02626992,\n",
       "          0.00555114, -0.02959925],\n",
       "        [-0.03178338,  0.04566686, -0.00095235, -0.03256929,\n",
       "         -0.03920375,  0.03154811,  0.0405931 , -0.00065557,\n",
       "          0.02197787,  0.01601252],\n",
       "        [ 0.02429462,  0.02771926, -0.01201391, -0.04671227,\n",
       "         -0.02073474,  0.03837223,  0.04791306,  0.0089453 ,\n",
       "          0.0133088 ,  0.00797719]],\n",
       "\n",
       "       [[ 0.01533146,  0.03795299, -0.03740451, -0.0353724 ,\n",
       "         -0.01419059, -0.02461563,  0.02681908,  0.00144666,\n",
       "         -0.00101642, -0.04638548],\n",
       "        [ 0.01533146,  0.03795299, -0.03740451, -0.0353724 ,\n",
       "         -0.01419059, -0.02461563,  0.02681908,  0.00144666,\n",
       "         -0.00101642, -0.04638548],\n",
       "        [ 0.01533146,  0.03795299, -0.03740451, -0.0353724 ,\n",
       "         -0.01419059, -0.02461563,  0.02681908,  0.00144666,\n",
       "         -0.00101642, -0.04638548],\n",
       "        [ 0.01484487,  0.03703877,  0.00823281,  0.02107494,\n",
       "          0.02463801,  0.04201534, -0.00343429,  0.0456318 ,\n",
       "         -0.02155709,  0.01218324],\n",
       "        [-0.04966196, -0.02740567, -0.04890309, -0.03732642,\n",
       "          0.02773773, -0.02346962, -0.01871254, -0.0068147 ,\n",
       "          0.00760287,  0.00411864],\n",
       "        [-0.0434057 ,  0.00621086, -0.02617528,  0.0392809 ,\n",
       "         -0.02248926,  0.02929914, -0.02803962,  0.02626992,\n",
       "          0.00555114, -0.02959925],\n",
       "        [-0.03178338,  0.04566686, -0.00095235, -0.03256929,\n",
       "         -0.03920375,  0.03154811,  0.0405931 , -0.00065557,\n",
       "          0.02197787,  0.01601252],\n",
       "        [ 0.00703094, -0.00500264,  0.00855855, -0.04242724,\n",
       "         -0.04947401, -0.02501528,  0.02928361,  0.02453384,\n",
       "          0.02098996,  0.00500283]],\n",
       "\n",
       "       [[ 0.01533146,  0.03795299, -0.03740451, -0.0353724 ,\n",
       "         -0.01419059, -0.02461563,  0.02681908,  0.00144666,\n",
       "         -0.00101642, -0.04638548],\n",
       "        [ 0.01533146,  0.03795299, -0.03740451, -0.0353724 ,\n",
       "         -0.01419059, -0.02461563,  0.02681908,  0.00144666,\n",
       "         -0.00101642, -0.04638548],\n",
       "        [ 0.01533146,  0.03795299, -0.03740451, -0.0353724 ,\n",
       "         -0.01419059, -0.02461563,  0.02681908,  0.00144666,\n",
       "         -0.00101642, -0.04638548],\n",
       "        [ 0.01670064, -0.02207952, -0.03276034,  0.01712966,\n",
       "          0.04055868, -0.00010514,  0.04371724,  0.02601302,\n",
       "          0.02759418, -0.04599375],\n",
       "        [ 0.04027236, -0.0225475 , -0.00781497, -0.02107455,\n",
       "          0.04375248, -0.01790141,  0.0447419 ,  0.03372705,\n",
       "         -0.00976808,  0.00204863],\n",
       "        [-0.04662221, -0.01827916,  0.00833504,  0.0389652 ,\n",
       "         -0.02991585,  0.03428138, -0.04405426,  0.0016303 ,\n",
       "         -0.03914651, -0.02217922],\n",
       "        [ 0.01975861,  0.028815  , -0.03023647, -0.00528116,\n",
       "          0.01973112,  0.03100561, -0.02985975,  0.04917505,\n",
       "         -0.04369954,  0.02548075],\n",
       "        [-0.04692299, -0.03316462, -0.0398044 , -0.00994525,\n",
       "         -0.0098899 , -0.00475241, -0.03513086, -0.04222948,\n",
       "         -0.04062313, -0.04604989]],\n",
       "\n",
       "       [[ 0.01533146,  0.03795299, -0.03740451, -0.0353724 ,\n",
       "         -0.01419059, -0.02461563,  0.02681908,  0.00144666,\n",
       "         -0.00101642, -0.04638548],\n",
       "        [ 0.01533146,  0.03795299, -0.03740451, -0.0353724 ,\n",
       "         -0.01419059, -0.02461563,  0.02681908,  0.00144666,\n",
       "         -0.00101642, -0.04638548],\n",
       "        [ 0.01533146,  0.03795299, -0.03740451, -0.0353724 ,\n",
       "         -0.01419059, -0.02461563,  0.02681908,  0.00144666,\n",
       "         -0.00101642, -0.04638548],\n",
       "        [ 0.01533146,  0.03795299, -0.03740451, -0.0353724 ,\n",
       "         -0.01419059, -0.02461563,  0.02681908,  0.00144666,\n",
       "         -0.00101642, -0.04638548],\n",
       "        [-0.0406059 , -0.03171792, -0.00831236, -0.01289079,\n",
       "          0.04938402,  0.00614152, -0.01760751, -0.04462941,\n",
       "          0.03656569,  0.01758424],\n",
       "        [-0.00496493, -0.0280152 ,  0.00444299, -0.0194067 ,\n",
       "         -0.04874619, -0.04120507, -0.02762026,  0.04683349,\n",
       "          0.01440268,  0.03323365],\n",
       "        [ 0.04521168,  0.01619095, -0.03974481, -0.04808227,\n",
       "         -0.02588667,  0.04604552,  0.01946187,  0.04714787,\n",
       "          0.03952444,  0.01590303],\n",
       "        [-0.03178338,  0.04566686, -0.00095235, -0.03256929,\n",
       "         -0.03920375,  0.03154811,  0.0405931 , -0.00065557,\n",
       "          0.02197787,  0.01601252]]], dtype=float32)"
      ]
     },
     "execution_count": 13,
     "metadata": {},
     "output_type": "execute_result"
    }
   ],
   "source": [
    "model.predict(embedded_docs)"
   ]
  },
  {
   "cell_type": "code",
   "execution_count": 14,
   "metadata": {},
   "outputs": [
    {
     "data": {
      "text/plain": [
       "array([   0,    0,    0,    0, 4176, 8214, 8093, 7162], dtype=int32)"
      ]
     },
     "execution_count": 14,
     "metadata": {},
     "output_type": "execute_result"
    }
   ],
   "source": [
    "embedded_docs[0]"
   ]
  },
  {
   "cell_type": "code",
   "execution_count": 15,
   "metadata": {},
   "outputs": [
    {
     "ename": "ValueError",
     "evalue": "Exception encountered when calling Sequential.call().\n\n\u001b[1mCannot take the length of shape with unknown rank.\u001b[0m\n\nArguments received by Sequential.call():\n  • inputs=tf.Tensor(shape=<unknown>, dtype=int32)\n  • training=False\n  • mask=None",
     "output_type": "error",
     "traceback": [
      "\u001b[31m---------------------------------------------------------------------------\u001b[39m",
      "\u001b[31mValueError\u001b[39m                                Traceback (most recent call last)",
      "\u001b[36mCell\u001b[39m\u001b[36m \u001b[39m\u001b[32mIn[15]\u001b[39m\u001b[32m, line 1\u001b[39m\n\u001b[32m----> \u001b[39m\u001b[32m1\u001b[39m \u001b[43mmodel\u001b[49m\u001b[43m.\u001b[49m\u001b[43mpredict\u001b[49m\u001b[43m(\u001b[49m\u001b[43membedded_docs\u001b[49m\u001b[43m[\u001b[49m\u001b[32;43m0\u001b[39;49m\u001b[43m]\u001b[49m\u001b[43m)\u001b[49m\n",
      "\u001b[36mFile \u001b[39m\u001b[32m~/Documents/DS/Generative AI/NLP/IMDB_project/myenv/lib/python3.12/site-packages/keras/src/utils/traceback_utils.py:122\u001b[39m, in \u001b[36mfilter_traceback.<locals>.error_handler\u001b[39m\u001b[34m(*args, **kwargs)\u001b[39m\n\u001b[32m    119\u001b[39m     filtered_tb = _process_traceback_frames(e.__traceback__)\n\u001b[32m    120\u001b[39m     \u001b[38;5;66;03m# To get the full stack trace, call:\u001b[39;00m\n\u001b[32m    121\u001b[39m     \u001b[38;5;66;03m# `keras.config.disable_traceback_filtering()`\u001b[39;00m\n\u001b[32m--> \u001b[39m\u001b[32m122\u001b[39m     \u001b[38;5;28;01mraise\u001b[39;00m e.with_traceback(filtered_tb) \u001b[38;5;28;01mfrom\u001b[39;00m\u001b[38;5;250m \u001b[39m\u001b[38;5;28;01mNone\u001b[39;00m\n\u001b[32m    123\u001b[39m \u001b[38;5;28;01mfinally\u001b[39;00m:\n\u001b[32m    124\u001b[39m     \u001b[38;5;28;01mdel\u001b[39;00m filtered_tb\n",
      "\u001b[36mFile \u001b[39m\u001b[32m~/Documents/DS/Generative AI/NLP/IMDB_project/myenv/lib/python3.12/site-packages/keras/src/utils/traceback_utils.py:122\u001b[39m, in \u001b[36mfilter_traceback.<locals>.error_handler\u001b[39m\u001b[34m(*args, **kwargs)\u001b[39m\n\u001b[32m    119\u001b[39m     filtered_tb = _process_traceback_frames(e.__traceback__)\n\u001b[32m    120\u001b[39m     \u001b[38;5;66;03m# To get the full stack trace, call:\u001b[39;00m\n\u001b[32m    121\u001b[39m     \u001b[38;5;66;03m# `keras.config.disable_traceback_filtering()`\u001b[39;00m\n\u001b[32m--> \u001b[39m\u001b[32m122\u001b[39m     \u001b[38;5;28;01mraise\u001b[39;00m e.with_traceback(filtered_tb) \u001b[38;5;28;01mfrom\u001b[39;00m\u001b[38;5;250m \u001b[39m\u001b[38;5;28;01mNone\u001b[39;00m\n\u001b[32m    123\u001b[39m \u001b[38;5;28;01mfinally\u001b[39;00m:\n\u001b[32m    124\u001b[39m     \u001b[38;5;28;01mdel\u001b[39;00m filtered_tb\n",
      "\u001b[31mValueError\u001b[39m: Exception encountered when calling Sequential.call().\n\n\u001b[1mCannot take the length of shape with unknown rank.\u001b[0m\n\nArguments received by Sequential.call():\n  • inputs=tf.Tensor(shape=<unknown>, dtype=int32)\n  • training=False\n  • mask=None"
     ]
    }
   ],
   "source": [
    "model.predict(embedded_docs[0])"
   ]
  },
  {
   "cell_type": "code",
   "execution_count": null,
   "metadata": {},
   "outputs": [],
   "source": []
  }
 ],
 "metadata": {
  "kernelspec": {
   "display_name": "myenv",
   "language": "python",
   "name": "python3"
  },
  "language_info": {
   "codemirror_mode": {
    "name": "ipython",
    "version": 3
   },
   "file_extension": ".py",
   "mimetype": "text/x-python",
   "name": "python",
   "nbconvert_exporter": "python",
   "pygments_lexer": "ipython3",
   "version": "3.12.4"
  }
 },
 "nbformat": 4,
 "nbformat_minor": 2
}
